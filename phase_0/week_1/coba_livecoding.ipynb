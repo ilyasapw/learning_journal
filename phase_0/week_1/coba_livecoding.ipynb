{
 "cells": [
  {
   "cell_type": "code",
   "execution_count": null,
   "metadata": {},
   "outputs": [],
   "source": [
    "### Perkenalan"
   ]
  },
  {
   "cell_type": "markdown",
   "metadata": {},
   "source": [
    "## Summary stat\n",
    "### df.desribe()"
   ]
  },
  {
   "cell_type": "markdown",
   "metadata": {},
   "source": []
  },
  {
   "cell_type": "markdown",
   "metadata": {},
   "source": [
    "## ubah baris ke kolom\n",
    "### df.desribe().T #ranspose(ubad data baris menjadi kolom)"
   ]
  },
  {
   "cell_type": "markdown",
   "metadata": {},
   "source": [
    "## Cari rata\"\n",
    "### df.['scw'].mean()\n",
    "### atau df..scw.mean()"
   ]
  },
  {
   "cell_type": "markdown",
   "metadata": {},
   "source": [
    "## Cari unique\n",
    "### df.dual_sim.unique()\n",
    "### hasilnya array[0,1] karena ada dua type kategori unique sim yaitu 0 dan 1\n",
    "### df.dual_sim.nunique()\n",
    "### menampilkan jumlah misal 2"
   ]
  },
  {
   "cell_type": "markdown",
   "metadata": {},
   "source": [
    "## Filter n_cores 2 sama 4\n",
    "### df[df['n_cores'].isin([2,4])]"
   ]
  },
  {
   "cell_type": "code",
   "execution_count": null,
   "metadata": {},
   "outputs": [],
   "source": []
  }
 ],
 "metadata": {
  "language_info": {
   "name": "python"
  },
  "orig_nbformat": 4
 },
 "nbformat": 4,
 "nbformat_minor": 2
}
