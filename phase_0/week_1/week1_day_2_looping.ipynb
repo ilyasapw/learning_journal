{
 "cells": [
  {
   "cell_type": "code",
   "execution_count": 8,
   "metadata": {},
   "outputs": [],
   "source": [
    "a = 5"
   ]
  },
  {
   "cell_type": "code",
   "execution_count": 9,
   "metadata": {},
   "outputs": [
    {
     "data": {
      "text/plain": [
       "5"
      ]
     },
     "execution_count": 9,
     "metadata": {},
     "output_type": "execute_result"
    }
   ],
   "source": [
    "a"
   ]
  },
  {
   "cell_type": "code",
   "execution_count": 10,
   "metadata": {},
   "outputs": [
    {
     "data": {
      "text/plain": [
       "True"
      ]
     },
     "execution_count": 10,
     "metadata": {},
     "output_type": "execute_result"
    }
   ],
   "source": [
    "5 == 5  #operator perbandingan/comparison "
   ]
  },
  {
   "cell_type": "code",
   "execution_count": 11,
   "metadata": {},
   "outputs": [
    {
     "data": {
      "text/plain": [
       "True"
      ]
     },
     "execution_count": 11,
     "metadata": {},
     "output_type": "execute_result"
    }
   ],
   "source": [
    "a == 5"
   ]
  },
  {
   "cell_type": "code",
   "execution_count": 13,
   "metadata": {},
   "outputs": [
    {
     "name": "stdout",
     "output_type": "stream",
     "text": [
      "12 lebih besar dari 10\n"
     ]
    }
   ],
   "source": [
    "a = 12\n",
    "print(f\"{a} lebih besar dari 10\") #f singkatan dari format"
   ]
  },
  {
   "cell_type": "code",
   "execution_count": 18,
   "metadata": {},
   "outputs": [
    {
     "name": "stdout",
     "output_type": "stream",
     "text": [
      "kondisi diluar if\n"
     ]
    }
   ],
   "source": [
    "a = 9\n",
    "if a > 10:\n",
    "    print(f\"{a} lebih besar dari 10\") #menjorok(indentation)\n",
    "\n",
    "print(\"kondisi diluar if\") #kondisi tidak sejajar berarti sudah tidak berpengaruh pada kondisi if\n"
   ]
  },
  {
   "cell_type": "code",
   "execution_count": 20,
   "metadata": {},
   "outputs": [
    {
     "name": "stdout",
     "output_type": "stream",
     "text": [
      "9 lebih kecil dari 10\n"
     ]
    }
   ],
   "source": [
    "a = 9\n",
    "if a > 10:\n",
    "    print(f\"{a} lebih besar dari 10\") \n",
    "else:\n",
    "    print(f\"{a} lebih kecil dari 10\")"
   ]
  },
  {
   "cell_type": "markdown",
   "metadata": {},
   "source": [
    "### Looping\n",
    "\n",
    "## if sekali menjalankan code(sekali print)\n",
    "## while selama memenuhi dijalankan terus(melakukan print sebanyak kondisi memenuhi) (disebut infinity loop) loop tak hingga"
   ]
  },
  {
   "cell_type": "code",
   "execution_count": 22,
   "metadata": {},
   "outputs": [
    {
     "name": "stdout",
     "output_type": "stream",
     "text": [
      "Halo Ilyas, apa kabar ?\n"
     ]
    }
   ],
   "source": [
    "print(\"Halo Ilyas, apa kabar ?\")"
   ]
  },
  {
   "cell_type": "code",
   "execution_count": 23,
   "metadata": {},
   "outputs": [
    {
     "name": "stdout",
     "output_type": "stream",
     "text": [
      "0\n",
      "ini baris ke 0\n",
      "1\n",
      "ini baris ke 1\n",
      "2\n",
      "ini baris ke 2\n",
      "3\n",
      "ini baris ke 3\n",
      "4\n",
      "ini baris ke 4\n",
      "5\n",
      "ini baris ke 5\n",
      "6\n",
      "ini baris ke 6\n",
      "7\n",
      "ini baris ke 7\n"
     ]
    }
   ],
   "source": [
    "a = 0\n",
    "while a < 8:\n",
    "    print(f\"{a}\")\n",
    "    print(f\"ini baris ke {a}\")\n",
    "    a = a + 1"
   ]
  },
  {
   "cell_type": "code",
   "execution_count": 24,
   "metadata": {},
   "outputs": [
    {
     "name": "stdout",
     "output_type": "stream",
     "text": [
      "1\n",
      "ini baris ke 1\n",
      "2\n",
      "ini baris ke 2\n",
      "3\n",
      "ini baris ke 3\n",
      "4\n",
      "ini baris ke 4\n",
      "5\n",
      "ini baris ke 5\n",
      "6\n",
      "ini baris ke 6\n",
      "7\n",
      "ini baris ke 7\n",
      "8\n",
      "ini baris ke 8\n"
     ]
    }
   ],
   "source": [
    "a = 0\n",
    "while a < 8:\n",
    "    a = a + 1\n",
    "    print(f\"{a}\")\n",
    "    print(f\"ini baris ke {a}\")\n",
    "    "
   ]
  },
  {
   "cell_type": "code",
   "execution_count": 26,
   "metadata": {},
   "outputs": [],
   "source": [
    "list_data = []\n",
    "huruf = '' #kosong karena buat inisia pendefinisian/memancing sementara, \n",
    "            # kosong karenaa kita mau data yang dari input user dibawah\n",
    "\n",
    "while huruf != 'z':\n",
    "    if huruf != '':\n",
    "        list_data.append(huruf)\n",
    "    huruf = input(\" Masukkan huruf : \")\n"
   ]
  },
  {
   "cell_type": "code",
   "execution_count": 27,
   "metadata": {},
   "outputs": [
    {
     "data": {
      "text/plain": [
       "['x', 'y']"
      ]
     },
     "execution_count": 27,
     "metadata": {},
     "output_type": "execute_result"
    }
   ],
   "source": [
    "list_data"
   ]
  },
  {
   "cell_type": "code",
   "execution_count": 28,
   "metadata": {},
   "outputs": [
    {
     "name": "stdout",
     "output_type": "stream",
     "text": [
      "7 x 1 = 7\n",
      "7 x 2 = 14\n",
      "7 x 3 = 21\n"
     ]
    }
   ],
   "source": [
    "#tabel perkalian\n",
    "print(f\"{7} x {1} = {7*1}\")\n",
    "print(f\"{7} x {2} = {7*2}\")\n",
    "print(f\"{7} x {3} = {7*3}\")"
   ]
  },
  {
   "cell_type": "code",
   "execution_count": 29,
   "metadata": {},
   "outputs": [
    {
     "name": "stdout",
     "output_type": "stream",
     "text": [
      "7 x 1 = 7\n",
      "7 x 2 = 14\n",
      "7 x 3 = 21\n",
      "7 x 4 = 28\n",
      "7 x 5 = 35\n",
      "7 x 6 = 42\n",
      "7 x 7 = 49\n",
      "7 x 8 = 56\n",
      "7 x 9 = 63\n",
      "7 x 10 = 70\n"
     ]
    }
   ],
   "source": [
    "i = 1 #defini dlu sebelum looping, contohnya seperti i=1\n",
    "while i <= 10:\n",
    "    print(f\"{7} x {i} = {7*i}\")\n",
    "    # i = i + 1\n",
    "    i += 1 # sama seperti baris sebelumnya"
   ]
  },
  {
   "cell_type": "markdown",
   "metadata": {},
   "source": [
    "### For Loop\n",
    "## tipe data majemuk (tuple,list,dic)\n",
    "## meminimalisir infinity loop\n",
    "\n",
    "## for sesuatu in sesuatu(tipe majemuk semisal list,tuple,dll)"
   ]
  },
  {
   "cell_type": "code",
   "execution_count": 30,
   "metadata": {},
   "outputs": [
    {
     "name": "stdout",
     "output_type": "stream",
     "text": [
      "saya punya huruf a\n",
      "saya punya huruf b\n",
      "saya punya huruf c\n"
     ]
    }
   ],
   "source": [
    "huruf = [\"a\",\"b\",\"c\"]\n",
    "\n",
    "for hrf in huruf:\n",
    "    print(f\"saya punya huruf {hrf}\")\n",
    "\n",
    "# hrf seperti absensi huruf"
   ]
  },
  {
   "cell_type": "code",
   "execution_count": 31,
   "metadata": {},
   "outputs": [
    {
     "name": "stdout",
     "output_type": "stream",
     "text": [
      "7 x 1 = 7\n",
      "7 x 1 = 14\n",
      "7 x 1 = 21\n",
      "7 x 1 = 28\n",
      "7 x 1 = 35\n"
     ]
    }
   ],
   "source": [
    "for i in (1,2,3,4,5):\n",
    "    print(f\"{7} x {1} = {7*i}\")"
   ]
  },
  {
   "cell_type": "code",
   "execution_count": 32,
   "metadata": {},
   "outputs": [
    {
     "data": {
      "text/plain": [
       "[1, 3, 5, 7, 9]"
      ]
     },
     "execution_count": 32,
     "metadata": {},
     "output_type": "execute_result"
    }
   ],
   "source": [
    "#range\n",
    "list(range(1,10,2)) #naiknya 2 2 contoh 1 3 7 9"
   ]
  },
  {
   "cell_type": "code",
   "execution_count": 33,
   "metadata": {},
   "outputs": [
    {
     "data": {
      "text/plain": [
       "[0, 1, 2, 3, 4, 5, 6, 7, 8, 9]"
      ]
     },
     "execution_count": 33,
     "metadata": {},
     "output_type": "execute_result"
    }
   ],
   "source": [
    "list(range(10))"
   ]
  },
  {
   "cell_type": "code",
   "execution_count": 34,
   "metadata": {},
   "outputs": [
    {
     "name": "stdout",
     "output_type": "stream",
     "text": [
      "7 x 1 = 7\n",
      "7 x 1 = 14\n",
      "7 x 1 = 21\n",
      "7 x 1 = 28\n",
      "7 x 1 = 35\n",
      "7 x 1 = 42\n",
      "7 x 1 = 49\n",
      "7 x 1 = 56\n",
      "7 x 1 = 63\n",
      "7 x 1 = 70\n"
     ]
    }
   ],
   "source": [
    "for i in range(1,11):\n",
    "    print(f\"{7} x {1} = {7*i}\")"
   ]
  },
  {
   "cell_type": "markdown",
   "metadata": {},
   "source": [
    "### Special keyword\n",
    "## misal break , memberhentikan diangka 7"
   ]
  },
  {
   "cell_type": "code",
   "execution_count": 35,
   "metadata": {},
   "outputs": [
    {
     "name": "stdout",
     "output_type": "stream",
     "text": [
      "7 x 1 = 7\n",
      "7 x 1 = 14\n",
      "7 x 1 = 21\n",
      "7 x 1 = 28\n",
      "7 x 1 = 35\n",
      "7 x 1 = 42\n"
     ]
    }
   ],
   "source": [
    "for i in range(1,11):\n",
    "    if i == 7:\n",
    "        break\n",
    "    \n",
    "    print(f\"{7} x {1} = {7*i}\")"
   ]
  },
  {
   "cell_type": "markdown",
   "metadata": {},
   "source": [
    "### Special keyword\n",
    "## continue"
   ]
  },
  {
   "cell_type": "code",
   "execution_count": 36,
   "metadata": {},
   "outputs": [
    {
     "name": "stdout",
     "output_type": "stream",
     "text": [
      "7 x 1 = 7\n",
      "7 x 1 = 14\n",
      "7 x 1 = 21\n",
      "7 x 1 = 28\n",
      "7 x 1 = 35\n",
      "7 x 1 = 42\n",
      "7 x 1 = 56\n",
      "7 x 1 = 63\n",
      "7 x 1 = 70\n"
     ]
    }
   ],
   "source": [
    "for i in range(1,11):\n",
    "    if i == 7:\n",
    "        continue\n",
    "\n",
    "    print(f\"{7} x {1} = {7*i}\")\n",
    "\n",
    "    # 7 x7 hilang karena waktu i = 7 disuruh lanjut"
   ]
  },
  {
   "cell_type": "code",
   "execution_count": 37,
   "metadata": {},
   "outputs": [
    {
     "name": "stdout",
     "output_type": "stream",
     "text": [
      "7 x 1 = 7\n",
      "7 x 1 = 14\n",
      "7 x 1 = 21\n",
      "7 x 1 = 28\n",
      "7 x 1 = 35\n",
      "7 x 1 = 42\n",
      "7 x 1 = 49\n",
      "7 x 1 = 56\n",
      "7 x 1 = 63\n",
      "7 x 1 = 70\n"
     ]
    }
   ],
   "source": [
    "for i in range(1,11):\n",
    "    print(f\"{7} x {1} = {7*i}\")\n",
    "\n",
    "    if i == 7:\n",
    "        continue\n",
    "    # if continue tidak berfungsi karena dibawah continue kosong/tidak ada yng dijalankan"
   ]
  },
  {
   "cell_type": "code",
   "execution_count": null,
   "metadata": {},
   "outputs": [],
   "source": [
    "### coba while sendiri buat PR AHAHAHAHA"
   ]
  },
  {
   "cell_type": "markdown",
   "metadata": {},
   "source": [
    "### GAME"
   ]
  },
  {
   "cell_type": "code",
   "execution_count": 41,
   "metadata": {},
   "outputs": [],
   "source": [
    "#library random angka\n",
    "from random import randint"
   ]
  },
  {
   "cell_type": "code",
   "execution_count": 42,
   "metadata": {},
   "outputs": [
    {
     "data": {
      "text/plain": [
       "8"
      ]
     },
     "execution_count": 42,
     "metadata": {},
     "output_type": "execute_result"
    }
   ],
   "source": [
    "randint(1,10)"
   ]
  },
  {
   "cell_type": "code",
   "execution_count": 43,
   "metadata": {},
   "outputs": [
    {
     "name": "stdout",
     "output_type": "stream",
     "text": [
      "Angka terlalu besar\n",
      "Angka terlalu kecil\n",
      "Selamat anda menebak dengan benar\n",
      "angka komputer 2\n"
     ]
    }
   ],
   "source": [
    "angka_komputer = randint(1,10)\n",
    "angka_tebakan = 0 #inisiasi\n",
    "while angka_tebakan != angka_komputer:\n",
    "    angka_tebakan = input(\"Masukan tebakan anda = \")\n",
    "    angka_tebakan = int(angka_tebakan) #karena input dari user hasilnya str, agar int pake code ini\n",
    "    if angka_tebakan < angka_komputer:\n",
    "        print(\"Angka terlalu kecil\")\n",
    "    elif angka_tebakan > angka_komputer: #elif (if yang lain)\n",
    "        print(\"Angka terlalu besar\")\n",
    "    else:\n",
    "        print(\"Selamat anda menebak dengan benar\")\n",
    "        print(f\"angka komputer {angka_komputer}\")"
   ]
  },
  {
   "cell_type": "code",
   "execution_count": 46,
   "metadata": {},
   "outputs": [
    {
     "name": "stdout",
     "output_type": "stream",
     "text": [
      "Selamat anda menebak dengan benar\n",
      "angka komputer 2\n",
      "Anda punya2\n"
     ]
    }
   ],
   "source": [
    "angka_komputer = randint(1,10)\n",
    "angka_tebakan = 0 #inisiasi\n",
    "kesempatan = 3\n",
    "\n",
    "while angka_tebakan != angka_komputer and kesempatan > 0:\n",
    "    angka_tebakan = input(\"Masukan tebakan anda = \")\n",
    "    angka_tebakan = int(angka_tebakan) #karena input dari user hasilnya str, agar int pake code ini\n",
    "    if angka_tebakan < angka_komputer:\n",
    "        print(\"Angka terlalu kecil\")\n",
    "        kesempatan -= 1\n",
    "    elif angka_tebakan > angka_komputer: #elif (if yang lain)\n",
    "        print(\"Angka terlalu besar\")\n",
    "        kesempatan -= 1\n",
    "    else:\n",
    "        print(\"Selamat anda menebak dengan benar\")\n",
    "        print(f\"angka komputer {angka_komputer}\")\n",
    "\n",
    "        print(f\"Anda punya kesempatan masih {kesempatan-1}\")\n",
    "    if kesempatan == 0:\n",
    "        print(\"Lu GBLOGG NT NT\")"
   ]
  }
 ],
 "metadata": {
  "interpreter": {
   "hash": "9c33282580fabc83ccc24f32e11342aabaa625956561ddb73d4f78c402aba2f6"
  },
  "kernelspec": {
   "display_name": "Python 3.9.7 64-bit ('base': conda)",
   "language": "python",
   "name": "python3"
  },
  "language_info": {
   "codemirror_mode": {
    "name": "ipython",
    "version": 3
   },
   "file_extension": ".py",
   "mimetype": "text/x-python",
   "name": "python",
   "nbconvert_exporter": "python",
   "pygments_lexer": "ipython3",
   "version": "3.9.7"
  },
  "orig_nbformat": 4
 },
 "nbformat": 4,
 "nbformat_minor": 2
}
